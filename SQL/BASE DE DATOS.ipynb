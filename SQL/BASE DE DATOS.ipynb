{
 "cells": [
  {
   "cell_type": "code",
   "execution_count": null,
   "id": "1f33365b",
   "metadata": {},
   "outputs": [],
   "source": [
    "DROP DATABASE IF EXISTS vinos_españa;\n",
    "CREATE DATABASE vinos_españa;\n",
    "USE vinos_españa;\n",
    "\n",
    "CREATE TABLE vinos (\n",
    "    vinos_id INTEGER NOT NULL PRIMARY KEY AUTO_INCREMENT,\n",
    "    winery VARCHAR(30) NOT NULL,\n",
    "    wine VARCHAR(50) NOT NULL,\n",
    "    year integer NOT NULL,\n",
    "    rating float NOT NULL,\n",
    "    num_reviews integer NOT NULL,\n",
    "    country varchar(50) NOT NULL,\n",
    "    region varchar(50) NOT NULL,\n",
    "    price integer NOT NULL,\n",
    "    type varchar(50)\n",
    "    body float NOT NULL,\n",
    "    acidity float NOT NULL\n",
    "    \n",
    ");"
   ]
  }
 ],
 "metadata": {
  "kernelspec": {
   "display_name": "Python 3 (ipykernel)",
   "language": "python",
   "name": "python3"
  },
  "language_info": {
   "codemirror_mode": {
    "name": "ipython",
    "version": 3
   },
   "file_extension": ".py",
   "mimetype": "text/x-python",
   "name": "python",
   "nbconvert_exporter": "python",
   "pygments_lexer": "ipython3",
   "version": "3.9.7"
  }
 },
 "nbformat": 4,
 "nbformat_minor": 5
}
