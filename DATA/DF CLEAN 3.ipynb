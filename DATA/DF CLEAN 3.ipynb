{
 "cells": [
  {
   "cell_type": "code",
   "execution_count": 1,
   "id": "a733a212",
   "metadata": {},
   "outputs": [],
   "source": [
    "import pandas as pd\n",
    "import numpy as np\n",
    "import seaborn as sns\n",
    "import matplotlib.pyplot as plt\n",
    "import requests as req\n",
    "from selenium import webdriver\n",
    "from bs4 import BeautifulSoup as bs\n",
    "from selenium.webdriver.chrome.options import Options\n",
    "from webdriver_manager.chrome import ChromeDriverManager\n",
    "\n",
    "import warnings\n",
    "warnings.filterwarnings('ignore') # para quitar warnings\n",
    "\n",
    "import time\n",
    "pd.set_option('display.max_columns', None)         # muestra todas las columnas del df.head()"
   ]
  },
  {
   "cell_type": "code",
   "execution_count": 6,
   "id": "95548d65",
   "metadata": {},
   "outputs": [],
   "source": [
    "# configuración del driver\n",
    "\n",
    "opciones=Options()\n",
    "\n",
    "opciones.add_experimental_option('excludeSwitches', ['enable-automation'])\n",
    "opciones.add_experimental_option('useAutomationExtension', False)\n",
    "opciones.headless=False    # si True, no aperece la ventana (headless=no visible)\n",
    "opciones.add_argument('--start-maximized')         # comienza maximizado\n",
    "opciones.add_argument('--incognito')"
   ]
  },
  {
   "cell_type": "code",
   "execution_count": 7,
   "id": "a0f2e47b",
   "metadata": {},
   "outputs": [
    {
     "name": "stdout",
     "output_type": "stream",
     "text": [
      "\n"
     ]
    },
    {
     "name": "stderr",
     "output_type": "stream",
     "text": [
      "[WDM] - ====== WebDriver manager ======\n",
      "[WDM] - Current google-chrome version is 103.0.5060\n",
      "[WDM] - Get LATEST chromedriver version for 103.0.5060 google-chrome\n",
      "[WDM] - Driver [C:\\Users\\Oriana Ampuero\\.wdm\\drivers\\chromedriver\\win32\\103.0.5060.53\\chromedriver.exe] found in cache\n"
     ]
    }
   ],
   "source": [
    "driver= r'C:\\Users\\Oriana Ampuero\\SELENIUM\\chromedriver' \n",
    "driver= webdriver.Chrome(driver,options = opciones)\n",
    "PATH= ChromeDriverManager().install()\n",
    "driver= webdriver.Chrome(PATH)\n",
    "url= driver.get('https://laalacenaderosario.com/blog/clasificacion-de-los-vinos-edad-joven-roble-crianza-reserva-y-gran-reserva/')"
   ]
  },
  {
   "cell_type": "code",
   "execution_count": 11,
   "id": "0d8f5a30",
   "metadata": {},
   "outputs": [
    {
     "data": {
      "text/plain": [
       "[<selenium.webdriver.remote.webelement.WebElement (session=\"e9358a5fbd0df1924a105ae213db3b3d\", element=\"8d0ff156-da31-42d0-88dd-3b188839f78d\")>]"
      ]
     },
     "execution_count": 11,
     "metadata": {},
     "output_type": "execute_result"
    }
   ],
   "source": [
    "tabla= driver.find_elements_by_xpath('//*[@id=\"post-741\"]/div[2]/div[2]/div/div/div[2]/div/div[5]/div')\n",
    "tabla"
   ]
  },
  {
   "cell_type": "code",
   "execution_count": 12,
   "id": "57a6b9e0",
   "metadata": {},
   "outputs": [
    {
     "data": {
      "text/plain": [
       "[['Tabla: Clasificación de los Vinos por su envejecimiento',\n",
       "  '  Proceso de envejecimiento Etiquetado D.O “La Mancha”',\n",
       "  'Vino Joven Ningún proceso Marca color verde –  Joven',\n",
       "  'Vino Semicrianza o Roble Inferior a 6 meses Marca color azul – Envejecidos en barrica',\n",
       "  'Vino Crianza Vino tinto mínimo 24 meses y vino blanco o rosado mínimo 18 meses Marca color morado – Crianza',\n",
       "  'Vino Reserva Vino tinto mínimo 36 meses y vino blanco o rosado mínimo 24 meses Marca color rosa – Reserva',\n",
       "  'Vino Gran Reserva Vino tinto mínimo 60 meses y vino blanco o rosado mínimo 48 meses Marca color dorada – Gran Reserva',\n",
       "  'Esta calificación que os hemos detallado desde “La Alacena de Rosario”, hace que el consumidor pueda tener una garantía respaldada por la ley a la hora de comprar un vino. Pero son cada vez más las opiniones que difieren con estos tipos de clasificación y son muchas las bodegas reacias a clasificar sus vinos de esta forma. ',\n",
       "  'Entendiendo que cada vino y cada añada es diferente, por lo cual, el tiempo de envejecimiento no debe venir dado por una legislación o normativa, sino por el propio vino, el cual, dará a los bodegueros las claves de su envejecimiento para llegar a su madurez con la mayor plenitud posible.',\n",
       "  'Todo ello desde el principal objetivo del envejecimiento del vino, que no es otro que mejorar en lo máximo las propiedades organolépticas de este y no la de cumplir una normativa.',\n",
       "  'En cualquier caso la elección será siempre del cliente, de sus gustos y maneras de entender un momento particular de su vida saboreando una copa de su vino preferido y porque no, aprovecharse de los beneficios del vino que le pueden producir en su salud.']]"
      ]
     },
     "execution_count": 12,
     "metadata": {},
     "output_type": "execute_result"
    }
   ],
   "source": [
    "limpia= [f.text.strip().split('\\n') for f in tabla]\n",
    "limpia"
   ]
  },
  {
   "cell_type": "code",
   "execution_count": null,
   "id": "198a7356",
   "metadata": {},
   "outputs": [],
   "source": []
  },
  {
   "cell_type": "code",
   "execution_count": null,
   "id": "7219e943",
   "metadata": {},
   "outputs": [],
   "source": []
  }
 ],
 "metadata": {
  "kernelspec": {
   "display_name": "Python 3 (ipykernel)",
   "language": "python",
   "name": "python3"
  },
  "language_info": {
   "codemirror_mode": {
    "name": "ipython",
    "version": 3
   },
   "file_extension": ".py",
   "mimetype": "text/x-python",
   "name": "python",
   "nbconvert_exporter": "python",
   "pygments_lexer": "ipython3",
   "version": "3.9.7"
  }
 },
 "nbformat": 4,
 "nbformat_minor": 5
}
