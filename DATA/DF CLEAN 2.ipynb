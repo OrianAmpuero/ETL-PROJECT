{
 "cells": [
  {
   "cell_type": "markdown",
   "id": "9cf433bc",
   "metadata": {},
   "source": [
    "# DF BDELVINO"
   ]
  },
  {
   "cell_type": "markdown",
   "id": "03cdd6b9",
   "metadata": {},
   "source": [
    "## Importaciones y carga de datos"
   ]
  },
  {
   "cell_type": "code",
   "execution_count": 1,
   "id": "999f1494",
   "metadata": {},
   "outputs": [],
   "source": [
    "import pandas as pd\n",
    "import numpy as np\n",
    "import seaborn as sns\n",
    "import matplotlib.pyplot as plt\n",
    "import requests as req\n",
    "from selenium import webdriver\n",
    "from bs4 import BeautifulSoup as bs\n",
    "from selenium.webdriver.chrome.options import Options\n",
    "from webdriver_manager.chrome import ChromeDriverManager\n",
    "\n",
    "import warnings\n",
    "warnings.filterwarnings('ignore') # para quitar warnings\n",
    "\n",
    "import time\n",
    "pd.set_option('display.max_columns', None)         # muestra todas las columnas del df.head()"
   ]
  },
  {
   "cell_type": "code",
   "execution_count": 2,
   "id": "43e5a492",
   "metadata": {},
   "outputs": [],
   "source": [
    "# configuración del driver\n",
    "\n",
    "opciones=Options()\n",
    "\n",
    "opciones.add_experimental_option('excludeSwitches', ['enable-automation'])\n",
    "opciones.add_experimental_option('useAutomationExtension', False)\n",
    "opciones.headless=False    # si True, no aperece la ventana (headless=no visible)\n",
    "opciones.add_argument('--start-maximized')         # comienza maximizado\n",
    "opciones.add_argument('--incognito')"
   ]
  },
  {
   "cell_type": "code",
   "execution_count": 3,
   "id": "48df5470",
   "metadata": {},
   "outputs": [],
   "source": [
    "driver= r'C:\\Users\\Oriana Ampuero\\SELENIUM\\chromedriver' \n",
    "driver= webdriver.Chrome(driver,options = opciones)"
   ]
  },
  {
   "cell_type": "code",
   "execution_count": 4,
   "id": "84441f3c",
   "metadata": {},
   "outputs": [
    {
     "name": "stdout",
     "output_type": "stream",
     "text": [
      "\n"
     ]
    },
    {
     "name": "stderr",
     "output_type": "stream",
     "text": [
      "[WDM] - ====== WebDriver manager ======\n",
      "[WDM] - Current google-chrome version is 103.0.5060\n",
      "[WDM] - Get LATEST chromedriver version for 103.0.5060 google-chrome\n",
      "[WDM] - Driver [C:\\Users\\Oriana Ampuero\\.wdm\\drivers\\chromedriver\\win32\\103.0.5060.53\\chromedriver.exe] found in cache\n"
     ]
    }
   ],
   "source": [
    "PATH= ChromeDriverManager().install()\n",
    "\n",
    "driver= webdriver.Chrome(PATH)"
   ]
  },
  {
   "cell_type": "code",
   "execution_count": 5,
   "id": "92e66b4d",
   "metadata": {},
   "outputs": [],
   "source": [
    "url= driver.get('https://www.bdelvino.com/2019/12/10/top-100-espana-james-suckling/')"
   ]
  },
  {
   "cell_type": "code",
   "execution_count": 27,
   "id": "a4587eb9",
   "metadata": {},
   "outputs": [
    {
     "data": {
      "text/plain": [
       "[<selenium.webdriver.remote.webelement.WebElement (session=\"ece4f5e96a25d46894f6ae4a6e89c01f\", element=\"9d9b0cc8-1df6-45e1-8887-52e41d24fac2\")>]"
      ]
     },
     "execution_count": 27,
     "metadata": {},
     "output_type": "execute_result"
    }
   ],
   "source": [
    "tabla= driver.find_elements_by_xpath('//*[@id=\"tablepress-10\"]/tbody')\n",
    "tabla"
   ]
  },
  {
   "cell_type": "code",
   "execution_count": 29,
   "id": "87a083d2",
   "metadata": {},
   "outputs": [
    {
     "data": {
      "text/plain": [
       "[['1 DOMINIO DE PINGUS RIBERA DEL DUERO PINGUS 2016',\n",
       "  '2 ARTADI ALAVA VIÑA EL PISON 2016',\n",
       "  '3 COMPAÑIA DE VINOS TELMO RODRIGUEZ RIOJA LAS BEATAS 2016',\n",
       "  '4 MUGA RIOJA ARO 2016',\n",
       "  '5 SIERRA CANTABRÍA RIOJA MÁGICO 2016',\n",
       "  '6 VEGA SICILIA RIBERA DEL DUERO UNICO 2010',\n",
       "  '7 MUGA RIOJA PRADO ENEA GRAN RESERVA 2011',\n",
       "  '8 MARQUÉS DE MURRIETA RIOJA CASTILLO YGAY GRAN RESERVA ESPECIAL 2010',\n",
       "  '9 ARTADI ALAVA LA POZA DE BALLESTEROS 2016',\n",
       "  '10 SIERRA CANTABRÍA RIOJA CVC',\n",
       "  '11 TERROIR AL LIMIT PRIORAT DITS DEL TERRA 2016',\n",
       "  '12 BODEGA LANZAGA RIOJA TABUERNIGA 2016',\n",
       "  '13 LA RIOJA ALTA RIOJA GRAN RESERVA 904 2010',\n",
       "  \"14 ALVARO PALACIOS PRIORAT L'ERMITA 2017\",\n",
       "  '15 MUGA RIOJA TORRE 2016',\n",
       "  '16 ARTADI ALAVA QUINTANILLA 2016',\n",
       "  '17 TERROIR AL LIMIT PRIORAT LES MANYES 2016',\n",
       "  '18 VEGA SICILIA RIBERA DEL DUERO RESERVA ESPECIAL UNICO',\n",
       "  '19 LUSTAU JEREZ OLOROSO VORS 30 YEARS OLD',\n",
       "  '20 BODEGA LANZAGA RIOJA LA ESTRADA 2016',\n",
       "  '21 VEGA SICILIA RIBERA DEL DUERO VALBUENA 5 2015',\n",
       "  '22 ENVÍNATE RIBEIRA SACRA LOUSAS PARCELA CAMIÑO NOVO VINOS ATLÁNTICOS 2017',\n",
       "  '23 LÓPEZ DE HEREDIA RIOJA RESERVA VIÑA TONDONIA WHITE 2007',\n",
       "  '24 CUNE RIOJA REAL DE AZÚA 2016',\n",
       "  '25 FERRER BOBET PRIORAT 20 2016']]"
      ]
     },
     "execution_count": 29,
     "metadata": {},
     "output_type": "execute_result"
    }
   ],
   "source": [
    "top25=[f.text.strip().split('\\n') for f in tabla]\n",
    "top25"
   ]
  },
  {
   "cell_type": "code",
   "execution_count": null,
   "id": "8b80621f",
   "metadata": {},
   "outputs": [],
   "source": []
  },
  {
   "cell_type": "code",
   "execution_count": null,
   "id": "f9716501",
   "metadata": {},
   "outputs": [],
   "source": []
  }
 ],
 "metadata": {
  "kernelspec": {
   "display_name": "Python 3 (ipykernel)",
   "language": "python",
   "name": "python3"
  },
  "language_info": {
   "codemirror_mode": {
    "name": "ipython",
    "version": 3
   },
   "file_extension": ".py",
   "mimetype": "text/x-python",
   "name": "python",
   "nbconvert_exporter": "python",
   "pygments_lexer": "ipython3",
   "version": "3.9.7"
  }
 },
 "nbformat": 4,
 "nbformat_minor": 5
}
